{
 "cells": [
  {
   "cell_type": "markdown",
   "metadata": {},
   "source": [
    "# Ejercicio1: Crear y usar listas de Python\n",
    "## Ejercicio: Usar listas para almacenar nombres de planetas"
   ]
  },
  {
   "cell_type": "markdown",
   "metadata": {},
   "source": [
    "En primer lugar, crea una variable denominada planets. Agrega los ocho planetas (sin Plutón) a la lista. A continuación, muestra el número de planetas."
   ]
  },
  {
   "cell_type": "code",
   "execution_count": 1,
   "metadata": {},
   "outputs": [
    {
     "name": "stdout",
     "output_type": "stream",
     "text": [
      "['mercurio', 'venus', 'tierra', 'marte', 'júpiter', 'saturno', 'urano', 'neptuno']\n"
     ]
    }
   ],
   "source": [
    "# Creamos la lista planets y la mostramos\n",
    "planetas=['mercurio', 'venus', 'tierra', 'marte', 'júpiter', 'saturno', 'urano', 'neptuno']\n",
    "print(planetas)"
   ]
  },
  {
   "cell_type": "markdown",
   "metadata": {},
   "source": [
    "Agrega a Plutón a la lista que creaste. Luego muestra tanto el número de planetas como el último planeta de la lista."
   ]
  },
  {
   "cell_type": "code",
   "execution_count": 2,
   "metadata": {},
   "outputs": [
    {
     "name": "stdout",
     "output_type": "stream",
     "text": [
      "El último planeta es Plutón Siendo un total de 9 planetas en el sistema solar\n"
     ]
    }
   ],
   "source": [
    "# Agregamos a plutón y mostramos el último elemento\n",
    "planetas.append('Plutón')\n",
    "print('El último planeta es', planetas[-1], 'Siendo un total de', len(planetas), 'planetas en el sistema solar')"
   ]
  },
  {
   "cell_type": "markdown",
   "metadata": {},
   "source": [
    "# Ejercicio 2: Trabajando con datos de una lista\n",
    "## Usar slices para recuperar partes de una lista\n",
    "Comienza agregando el código para crear una lista con los planetas.\n",
    "\n"
   ]
  },
  {
   "cell_type": "code",
   "execution_count": 4,
   "metadata": {},
   "outputs": [],
   "source": [
    "#Lista de planetas\n",
    "planetas=['Mercurio', 'Venus', 'Tierra', 'Marte', 'Júpiter', 'Saturno', 'Urano', 'Neptuno']"
   ]
  },
  {
   "cell_type": "markdown",
   "metadata": {},
   "source": [
    "### Solicita al usuario el nombre de un planeta"
   ]
  },
  {
   "cell_type": "code",
   "execution_count": 3,
   "metadata": {},
   "outputs": [],
   "source": [
    "# Solicitamos el nombre de un planeta *Pista:  input()\n",
    "sol_usuario=input('Por favor ingrese el nombre de un planeta iniciando por una mayúscula')"
   ]
  },
  {
   "cell_type": "markdown",
   "metadata": {},
   "source": [
    "### Encuentra el planeta en la lista"
   ]
  },
  {
   "cell_type": "code",
   "execution_count": 5,
   "metadata": {},
   "outputs": [],
   "source": [
    "# Busca el planeta en la lista\n",
    "num_plan=planetas.index(str(sol_usuario))"
   ]
  },
  {
   "cell_type": "markdown",
   "metadata": {},
   "source": [
    "### Mostrar planetas más cercanos al sol que el que el usuario ingresó\n"
   ]
  },
  {
   "cell_type": "code",
   "execution_count": 6,
   "metadata": {},
   "outputs": [
    {
     "name": "stdout",
     "output_type": "stream",
     "text": [
      "Antes de Marte están: ['Mercurio', 'Venus', 'Tierra']\n"
     ]
    }
   ],
   "source": [
    "print('Antes de '+ sol_usuario + ' están:', planetas[0:num_plan])"
   ]
  },
  {
   "cell_type": "markdown",
   "metadata": {},
   "source": [
    "### Mostrar planetas más alejados del sol que el que el usuario ingresó\n"
   ]
  },
  {
   "cell_type": "code",
   "execution_count": 7,
   "metadata": {},
   "outputs": [
    {
     "name": "stdout",
     "output_type": "stream",
     "text": [
      "Después de Marte están: ['Júpiter', 'Saturno', 'Urano', 'Neptuno']\n"
     ]
    }
   ],
   "source": [
    "print('Después de '+ sol_usuario + ' están:', planetas[num_plan+1:])"
   ]
  }
 ],
 "metadata": {
  "interpreter": {
   "hash": "b8436b809a200628b3c2040c9c6cd4a67aed398833cb8301de8c2d6b249e678e"
  },
  "kernelspec": {
   "display_name": "Python 3.10.2 64-bit",
   "language": "python",
   "name": "python3"
  },
  "language_info": {
   "codemirror_mode": {
    "name": "ipython",
    "version": 3
   },
   "file_extension": ".py",
   "mimetype": "text/x-python",
   "name": "python",
   "nbconvert_exporter": "python",
   "pygments_lexer": "ipython3",
   "version": "3.10.2"
  },
  "orig_nbformat": 4
 },
 "nbformat": 4,
 "nbformat_minor": 2
}
